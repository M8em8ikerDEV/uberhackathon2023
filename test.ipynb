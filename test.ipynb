{
 "cells": [
  {
   "cell_type": "code",
   "execution_count": 2,
   "metadata": {},
   "outputs": [
    {
     "name": "stderr",
     "output_type": "stream",
     "text": [
      "/tmp/ipykernel_47019/3922129748.py:13: UserWarning: pandas only supports SQLAlchemy connectable (engine/connection) or database string URI or sqlite3 DBAPI2 connection. Other DBAPI2 objects are not tested. Please consider using SQLAlchemy.\n",
      "  df = pd.read_sql(query, con)\n"
     ]
    },
    {
     "name": "stdout",
     "output_type": "stream",
     "text": [
      "Done\n"
     ]
    }
   ],
   "source": [
    "import pandas as pd\n",
    "import seaborn as sns\n",
    "import MySQLdb\n",
    "import matplotlib.pyplot as plt\n",
    "\n",
    "\n",
    "# Create a SQL connection to the MySQL database\n",
    "\n",
    "con = MySQLdb.connect(host='34.141.41.94', user='codespace', passwd='codespace')\n",
    "\n",
    "query = \"SELECT * FROM uber.accidents_2017;\"\n",
    "\n",
    "df = pd.read_sql(query, con)\n",
    "\n",
    "\n",
    "print(\"Done\")"
   ]
  },
  {
   "cell_type": "code",
   "execution_count": 16,
   "metadata": {},
   "outputs": [
    {
     "ename": "AttributeError",
     "evalue": "module 'seaborn' has no attribute 'figure'",
     "output_type": "error",
     "traceback": [
      "\u001b[0;31m---------------------------------------------------------------------------\u001b[0m",
      "\u001b[0;31mAttributeError\u001b[0m                            Traceback (most recent call last)",
      "\u001b[1;32m/workspaces/uberhackathon2023/test.ipynb Cell 2\u001b[0m line \u001b[0;36m7\n\u001b[1;32m      <a href='vscode-notebook-cell://codespaces%2Bbookish-enigma-vx4wjxw95g2xpxx/workspaces/uberhackathon2023/test.ipynb#W1sdnNjb2RlLXJlbW90ZQ%3D%3D?line=3'>4</a>\u001b[0m sns\u001b[39m.\u001b[39mset_theme()\n\u001b[1;32m      <a href='vscode-notebook-cell://codespaces%2Bbookish-enigma-vx4wjxw95g2xpxx/workspaces/uberhackathon2023/test.ipynb#W1sdnNjb2RlLXJlbW90ZQ%3D%3D?line=5'>6</a>\u001b[0m \u001b[39m# Set the figure size\u001b[39;00m\n\u001b[0;32m----> <a href='vscode-notebook-cell://codespaces%2Bbookish-enigma-vx4wjxw95g2xpxx/workspaces/uberhackathon2023/test.ipynb#W1sdnNjb2RlLXJlbW90ZQ%3D%3D?line=6'>7</a>\u001b[0m sns\u001b[39m.\u001b[39;49mfigure(figsize\u001b[39m=\u001b[39m(\u001b[39m10\u001b[39m, \u001b[39m10\u001b[39m))\n\u001b[1;32m      <a href='vscode-notebook-cell://codespaces%2Bbookish-enigma-vx4wjxw95g2xpxx/workspaces/uberhackathon2023/test.ipynb#W1sdnNjb2RlLXJlbW90ZQ%3D%3D?line=8'>9</a>\u001b[0m \u001b[39m# Create a visualization using Seaborn's lineplot function\u001b[39;00m\n\u001b[1;32m     <a href='vscode-notebook-cell://codespaces%2Bbookish-enigma-vx4wjxw95g2xpxx/workspaces/uberhackathon2023/test.ipynb#W1sdnNjb2RlLXJlbW90ZQ%3D%3D?line=9'>10</a>\u001b[0m sns\u001b[39m.\u001b[39mlineplot(\n\u001b[1;32m     <a href='vscode-notebook-cell://codespaces%2Bbookish-enigma-vx4wjxw95g2xpxx/workspaces/uberhackathon2023/test.ipynb#W1sdnNjb2RlLXJlbW90ZQ%3D%3D?line=10'>11</a>\u001b[0m     data\u001b[39m=\u001b[39mhourly_counts,\n\u001b[1;32m     <a href='vscode-notebook-cell://codespaces%2Bbookish-enigma-vx4wjxw95g2xpxx/workspaces/uberhackathon2023/test.ipynb#W1sdnNjb2RlLXJlbW90ZQ%3D%3D?line=11'>12</a>\u001b[0m     x\u001b[39m=\u001b[39m\u001b[39m\"\u001b[39m\u001b[39mHour\u001b[39m\u001b[39m\"\u001b[39m, y\u001b[39m=\u001b[39m\u001b[39m\"\u001b[39m\u001b[39mId\u001b[39m\u001b[39m\"\u001b[39m,\n\u001b[1;32m     <a href='vscode-notebook-cell://codespaces%2Bbookish-enigma-vx4wjxw95g2xpxx/workspaces/uberhackathon2023/test.ipynb#W1sdnNjb2RlLXJlbW90ZQ%3D%3D?line=12'>13</a>\u001b[0m )\n",
      "\u001b[0;31mAttributeError\u001b[0m: module 'seaborn' has no attribute 'figure'"
     ]
    }
   ],
   "source": [
    "# Group the data by hour and count the number of accidents\n",
    "hourly_counts = df.groupby('Hour')['Id'].sum().reset_index()\n",
    "\n",
    "sns.set_theme()\n",
    "\n",
    "# Set the figure size\n",
    "sns.figure(figsize=(10, 10))\n",
    "\n",
    "# Create a visualization using Seaborn's lineplot function\n",
    "sns.lineplot(\n",
    "    data=hourly_counts,\n",
    "    x=\"Hour\", y=\"Id\",\n",
    ")\n"
   ]
  },
  {
   "cell_type": "code",
   "execution_count": null,
   "metadata": {},
   "outputs": [],
   "source": []
  }
 ],
 "metadata": {
  "kernelspec": {
   "display_name": "Python 3",
   "language": "python",
   "name": "python3"
  },
  "language_info": {
   "codemirror_mode": {
    "name": "ipython",
    "version": 3
   },
   "file_extension": ".py",
   "mimetype": "text/x-python",
   "name": "python",
   "nbconvert_exporter": "python",
   "pygments_lexer": "ipython3",
   "version": "3.10.8"
  },
  "orig_nbformat": 4
 },
 "nbformat": 4,
 "nbformat_minor": 2
}
